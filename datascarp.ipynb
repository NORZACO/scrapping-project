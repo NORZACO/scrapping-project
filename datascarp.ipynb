{
 "cells": [
  {
   "cell_type": "code",
   "execution_count": 1,
   "id": "951410e2",
   "metadata": {},
   "outputs": [],
   "source": [
    "import requests\n",
    "from bs4 import BeautifulSoup\n",
    "import pandas as pd\n",
    "\n",
    "url = \"https://www.tableau.com/support/known-issues\"\n",
    "response = requests.get(url)\n",
    "soup = BeautifulSoup(response.text, \"html.parser\")\n",
    "\n",
    "table = soup.find(\"table\", class_=\"table-list\")\n",
    "rows = table.find_all(\"tr\")[1:]  # exclude the header row\n",
    "\n",
    "data = []\n",
    "for row in rows:\n",
    "    columns = row.find_all(\"td\")\n",
    "    issue_id = columns[0].text.strip().split(\"\\n\")\n",
    "    product = columns[1].text.strip()\n",
    "    description = columns[2].text.strip()\n",
    "    status = columns[3].text.strip()\n",
    "    data.append([issue_id, product, description, status])\n",
    "\n",
    "df = pd.DataFrame(data, columns=[\"Issue ID\", \"Product\", \"Description\", \"Status\"])\n",
    "df.to_csv(\"tableau_issues.csv\", index=False)\n",
    "\n",
    "#print(df)"
   ]
  },
  {
   "cell_type": "code",
   "execution_count": 2,
   "id": "dc9acf88",
   "metadata": {},
   "outputs": [
    {
     "name": "stdout",
     "output_type": "stream",
     "text": [
      "LICENSE                                 main.ipynb\r\n",
      "README.md                               tableau_issues.csv\r\n",
      "Untitled.ipynb                          tableau_issues2.csv\r\n",
      "index.html                              tableau_issues_2023-02-08_09-32-45.csv\r\n"
     ]
    }
   ],
   "source": [
    "ls"
   ]
  },
  {
   "cell_type": "code",
   "execution_count": null,
   "id": "d6880dbc",
   "metadata": {},
   "outputs": [],
   "source": [
    "import requests\n",
    "from bs4 import BeautifulSoup\n",
    "import pandas as pd\n",
    "import time\n",
    "import datetime\n",
    "\n",
    "url = \"https://www.tableau.com/support/known-issues?_ga=2.73464402.1191337826.1675669808-625326636.1646950374\"\n",
    "def ScrapingData():\n",
    "    while True:\n",
    "        response = requests.get(url)\n",
    "        soup = BeautifulSoup(response.text, \"html.parser\")\n",
    "        table = soup.find(\"table\", class_=\"table-list\")\n",
    "        rows = table.find_all(\"tr\")[1:]  # exclude the header row\n",
    "\n",
    "        data = []\n",
    "        for row in rows:\n",
    "            columns = row.find_all(\"td\")\n",
    "            issue_id = columns[0].text.strip().split(\"\\n\")\n",
    "            product = columns[1].text.strip()\n",
    "            description = columns[2].text.strip()\n",
    "            status = columns[3].text.strip()\n",
    "            data.append([issue_id, product, description, status])\n",
    "        \n",
    "        df = pd.DataFrame(data, columns=[\"Issue ID\", \"Product\", \"Description\", \"Status\"])\n",
    "        df[\"Extraction Time\"] = time.strftime(\"%Y-%m-%d %H:%M:%S\")\n",
    "    \n",
    "    #timestamped = time.daylight()\n",
    "    \n",
    "    #df.to_csv(f\"tableau_issues_timestamped.csv\", mode=\"a\", header=False, index=False)\n",
    "    \n",
    "    \n",
    "\n",
    "    # Your code to scrape the information and store it in a pandas dataframe\n",
    "    #df = # Your dataframe with the scraped information\n",
    "    \n",
    "    # Get the current date and time\n",
    "       now = datetime.datetime.now()\n",
    "       \n",
    "       # Construct the file name including the date\n",
    "       file_name = f'tableau_issues_{now.strftime(\"%Y-%m-%d_%H-%M-%S\")}.csv'\n",
    "       \n",
    "       # Write the dataframe to a CSV file with the constructed file name\n",
    "       df.to_csv(file_name, index=False)\n",
    "   \n",
    "       \n",
    "       time.sleep(24 * 60 * 60)  # wait for 24 hours before the next extraction\n",
    "\n",
    "\n",
    "ScrapingData()"
   ]
  },
  {
   "cell_type": "code",
   "execution_count": null,
   "id": "cbb75ea6",
   "metadata": {},
   "outputs": [],
   "source": []
  }
 ],
 "metadata": {
  "kernelspec": {
   "display_name": "Python 3 (ipykernel)",
   "language": "python",
   "name": "python3"
  },
  "language_info": {
   "codemirror_mode": {
    "name": "ipython",
    "version": 3
   },
   "file_extension": ".py",
   "mimetype": "text/x-python",
   "name": "python",
   "nbconvert_exporter": "python",
   "pygments_lexer": "ipython3",
   "version": "3.9.13"
  }
 },
 "nbformat": 4,
 "nbformat_minor": 5
}
